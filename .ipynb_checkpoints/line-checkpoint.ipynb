{
 "cells": [
  {
   "cell_type": "code",
   "execution_count": 1,
   "id": "294a6a5e-fa44-4e28-b805-3a520079f502",
   "metadata": {},
   "outputs": [
    {
     "name": "stdout",
     "output_type": "stream",
     "text": [
      "Collecting line-bot-sdk\n",
      "  Downloading line_bot_sdk-2.1.0-py2.py3-none-any.whl (83 kB)\n",
      "\u001b[K     |████████████████████████████████| 83 kB 3.7 MB/s eta 0:00:011\n",
      "\u001b[?25hCollecting aiohttp>=3.7.4\n",
      "  Downloading aiohttp-3.8.1-cp39-cp39-macosx_10_9_x86_64.whl (574 kB)\n",
      "\u001b[K     |████████████████████████████████| 574 kB 10.6 MB/s eta 0:00:01\n",
      "\u001b[?25hRequirement already satisfied: future in /Users/takeru/opt/anaconda3/lib/python3.9/site-packages (from line-bot-sdk) (0.18.2)\n",
      "Requirement already satisfied: requests>=2.0 in /Users/takeru/opt/anaconda3/lib/python3.9/site-packages (from line-bot-sdk) (2.26.0)\n",
      "Collecting async-timeout<5.0,>=4.0.0a3\n",
      "  Downloading async_timeout-4.0.2-py3-none-any.whl (5.8 kB)\n",
      "Requirement already satisfied: charset-normalizer<3.0,>=2.0 in /Users/takeru/opt/anaconda3/lib/python3.9/site-packages (from aiohttp>=3.7.4->line-bot-sdk) (2.0.4)\n",
      "Collecting aiosignal>=1.1.2\n",
      "  Downloading aiosignal-1.2.0-py3-none-any.whl (8.2 kB)\n",
      "Collecting multidict<7.0,>=4.5\n",
      "  Downloading multidict-6.0.2-cp39-cp39-macosx_10_9_x86_64.whl (28 kB)\n",
      "Requirement already satisfied: attrs>=17.3.0 in /Users/takeru/opt/anaconda3/lib/python3.9/site-packages (from aiohttp>=3.7.4->line-bot-sdk) (21.2.0)\n",
      "Collecting frozenlist>=1.1.1\n",
      "  Downloading frozenlist-1.3.0-cp39-cp39-macosx_10_9_x86_64.whl (36 kB)\n",
      "Collecting yarl<2.0,>=1.0\n",
      "  Downloading yarl-1.7.2-cp39-cp39-macosx_10_9_x86_64.whl (121 kB)\n",
      "\u001b[K     |████████████████████████████████| 121 kB 6.3 MB/s eta 0:00:01\n",
      "\u001b[?25hRequirement already satisfied: certifi>=2017.4.17 in /Users/takeru/opt/anaconda3/lib/python3.9/site-packages (from requests>=2.0->line-bot-sdk) (2021.10.8)\n",
      "Requirement already satisfied: idna<4,>=2.5 in /Users/takeru/opt/anaconda3/lib/python3.9/site-packages (from requests>=2.0->line-bot-sdk) (3.2)\n",
      "Requirement already satisfied: urllib3<1.27,>=1.21.1 in /Users/takeru/opt/anaconda3/lib/python3.9/site-packages (from requests>=2.0->line-bot-sdk) (1.26.7)\n",
      "Installing collected packages: multidict, frozenlist, yarl, async-timeout, aiosignal, aiohttp, line-bot-sdk\n",
      "Successfully installed aiohttp-3.8.1 aiosignal-1.2.0 async-timeout-4.0.2 frozenlist-1.3.0 line-bot-sdk-2.1.0 multidict-6.0.2 yarl-1.7.2\n"
     ]
    }
   ],
   "source": [
    "!pip install line-bot-sdk"
   ]
  },
  {
   "cell_type": "code",
   "execution_count": null,
   "id": "fdd3dc15-0c0b-49f2-acc0-906f0073e08a",
   "metadata": {},
   "outputs": [],
   "source": [
    "import json"
   ]
  },
  {
   "cell_type": "code",
   "execution_count": null,
   "id": "de4c49e6-3d79-4abc-814f-6df4f4f66550",
   "metadata": {},
   "outputs": [],
   "source": [
    "file = open('info.json', 'r')\n",
    "info = json.load(file)"
   ]
  },
  {
   "cell_type": "code",
   "execution_count": null,
   "id": "83e10494-5cfa-4bd2-90d7-a68d9257c242",
   "metadata": {},
   "outputs": [],
   "source": [
    "from linebot import LineBotApi\n",
    "from linebot.models import TextSendMessaga "
   ]
  },
  {
   "cell_type": "code",
   "execution_count": null,
   "id": "553562eb-c6ba-4d85-98e9-0784de6509d0",
   "metadata": {},
   "outputs": [],
   "source": [
    "CANNNEL_ACCESS_TOKEN = info['CANNNEL_ACCESS_TOKEN']\n",
    "line_bot_api = LineBotApi(CANNNEL_ACCESS_TOKEN)"
   ]
  },
  {
   "cell_type": "code",
   "execution_count": null,
   "id": "79580f0d-d6e9-4518-afa5-5ad7ed7e6dcf",
   "metadata": {},
   "outputs": [],
   "source": [
    "def main():\n",
    "    USER_ID = info['USER_ID']\n",
    "    messages = TextSendMessage(text='おはよう')\n",
    "    line_bot_api.push_message(USER_ID, messages=messages)"
   ]
  },
  {
   "cell_type": "code",
   "execution_count": null,
   "id": "a913b063-59c1-44ec-b4fa-20f156d9184f",
   "metadata": {},
   "outputs": [],
   "source": []
  },
  {
   "cell_type": "code",
   "execution_count": null,
   "id": "2a2ee42b-443e-4cde-8bef-5160faec2edb",
   "metadata": {},
   "outputs": [],
   "source": []
  }
 ],
 "metadata": {
  "kernelspec": {
   "display_name": "Python 3 (ipykernel)",
   "language": "python",
   "name": "python3"
  },
  "language_info": {
   "codemirror_mode": {
    "name": "ipython",
    "version": 3
   },
   "file_extension": ".py",
   "mimetype": "text/x-python",
   "name": "python",
   "nbconvert_exporter": "python",
   "pygments_lexer": "ipython3",
   "version": "3.9.7"
  }
 },
 "nbformat": 4,
 "nbformat_minor": 5
}
